{
 "cells": [
  {
   "cell_type": "code",
   "execution_count": null,
   "metadata": {},
   "outputs": [
    {
     "name": "stdout",
     "output_type": "stream",
     "text": [
      "_____Birthday Adder_____\n",
      "\n",
      "1.Show Birthday\n",
      "2.Add to Birthday list\n",
      "3.Exit\n",
      "Enter the choice\n",
      "1\n",
      "Nothing to show\n",
      "_____Birthday Adder_____\n",
      "\n",
      "1.Show Birthday\n",
      "2.Add to Birthday list\n",
      "3.Exit\n",
      "Enter the choice\n",
      "2\n",
      "Enter Namevandu\n",
      "Enter Birthdatemay 22\n",
      "Birthday Added\n",
      "_____Birthday Adder_____\n",
      "\n",
      "1.Show Birthday\n",
      "2.Add to Birthday list\n",
      "3.Exit\n",
      "Enter the choice\n",
      "1\n",
      "Enter name to look for birthdayvandu\n",
      "may 22\n",
      "_____Birthday Adder_____\n",
      "\n",
      "1.Show Birthday\n",
      "2.Add to Birthday list\n",
      "3.Exit\n"
     ]
    }
   ],
   "source": [
    "Dict={} #We have declared a dictionary to store birthday.\n",
    "#Run loop till the user wants.\n",
    "while True:\n",
    "  print (\"_____Birthday Adder_____\\n\")\n",
    "  print (\"1.Show Birthday\")\n",
    "  print (\"2.Add to Birthday list\")\n",
    "  print (\"3.Exit\")\n",
    "  choice = int(input(\"Enter the choice\\n\"))\n",
    "  if choice == 1:\n",
    "      if len(Dict) == 0: #If no data in dictionary\n",
    "          print(\"Nothing to show\")\n",
    "      else : #If data is there ask him whose data he want\n",
    "        name = input(\"Enter name to look for birthday\")\n",
    "        birthday = Dict.get(name,\"No data found\")\n",
    "        print (birthday)\n",
    "  elif choice == 2:  #If he want to add user data let him add in dictionary as key-value pair.\n",
    "      name = input (\"Enter Name\")\n",
    "      date = input (\"Enter Birthdate\")\n",
    "      Dict[name] = date\n",
    "      print (\"Birthday Added\")\n",
    "  elif choice == 3: #close program\n",
    "      print(\"======Exiting program========\")\n",
    "      break\n",
    "  else: #if he has chosen none of above input plese ask him to chose valid option\n",
    "      print(\"Choose a valid option\")"
   ]
  },
  {
   "cell_type": "code",
   "execution_count": null,
   "metadata": {},
   "outputs": [],
   "source": []
  }
 ],
 "metadata": {
  "kernelspec": {
   "display_name": "Python 3",
   "language": "python",
   "name": "python3"
  },
  "language_info": {
   "codemirror_mode": {
    "name": "ipython",
    "version": 3
   },
   "file_extension": ".py",
   "mimetype": "text/x-python",
   "name": "python",
   "nbconvert_exporter": "python",
   "pygments_lexer": "ipython3",
   "version": "3.7.1"
  }
 },
 "nbformat": 4,
 "nbformat_minor": 2
}
